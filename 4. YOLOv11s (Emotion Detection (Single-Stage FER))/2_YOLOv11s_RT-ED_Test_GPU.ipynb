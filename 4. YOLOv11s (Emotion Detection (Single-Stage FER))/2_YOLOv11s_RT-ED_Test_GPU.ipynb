{
 "cells": [
  {
   "cell_type": "markdown",
   "metadata": {
    "id": "_Mn8cAC0PHMa"
   },
   "source": [
    "# Google Colab Notebook for YOLOv11 Emotion Detection Model (GPU Test)"
   ]
  },
  {
   "cell_type": "markdown",
   "metadata": {
    "id": "sH5kk7_EPIk5"
   },
   "source": [
    "## Step 1: Set up the environment"
   ]
  },
  {
   "cell_type": "code",
   "execution_count": 1,
   "metadata": {
    "colab": {
     "base_uri": "https://localhost:8080/"
    },
    "executionInfo": {
     "elapsed": 134,
     "status": "ok",
     "timestamp": 1752688520447,
     "user": {
      "displayName": "Muhammad Fakhri Fadhlurrahman",
      "userId": "08868115783476209028"
     },
     "user_tz": -420
    },
    "id": "_zc1EKoJVjb7",
    "outputId": "74b8ade6-4300-418b-9bb2-b0114b96ca24"
   },
   "outputs": [
    {
     "name": "stdout",
     "output_type": "stream",
     "text": [
      "Wed Jul 16 17:55:20 2025       \n",
      "+-----------------------------------------------------------------------------------------+\n",
      "| NVIDIA-SMI 550.54.15              Driver Version: 550.54.15      CUDA Version: 12.4     |\n",
      "|-----------------------------------------+------------------------+----------------------+\n",
      "| GPU  Name                 Persistence-M | Bus-Id          Disp.A | Volatile Uncorr. ECC |\n",
      "| Fan  Temp   Perf          Pwr:Usage/Cap |           Memory-Usage | GPU-Util  Compute M. |\n",
      "|                                         |                        |               MIG M. |\n",
      "|=========================================+========================+======================|\n",
      "|   0  Tesla T4                       Off |   00000000:00:04.0 Off |                    0 |\n",
      "| N/A   54C    P8             12W /   70W |       0MiB /  15360MiB |      0%      Default |\n",
      "|                                         |                        |                  N/A |\n",
      "+-----------------------------------------+------------------------+----------------------+\n",
      "                                                                                         \n",
      "+-----------------------------------------------------------------------------------------+\n",
      "| Processes:                                                                              |\n",
      "|  GPU   GI   CI        PID   Type   Process name                              GPU Memory |\n",
      "|        ID   ID                                                               Usage      |\n",
      "|=========================================================================================|\n",
      "|  No running processes found                                                             |\n",
      "+-----------------------------------------------------------------------------------------+\n"
     ]
    }
   ],
   "source": [
    "!nvidia-smi  # Verify GPU availability"
   ]
  },
  {
   "cell_type": "code",
   "execution_count": null,
   "metadata": {
    "colab": {
     "base_uri": "https://localhost:8080/"
    },
    "executionInfo": {
     "elapsed": 89600,
     "status": "ok",
     "timestamp": 1752688611888,
     "user": {
      "displayName": "Muhammad Fakhri Fadhlurrahman",
      "userId": "08868115783476209028"
     },
     "user_tz": -420
    },
    "id": "vT4KYBtdPK5x",
    "outputId": "d3a3f9b6-de42-485c-dff6-36a4f0d23f95"
   },
   "outputs": [
    {
     "name": "stdout",
     "output_type": "stream",
     "text": [
      "Collecting roboflow\n",
      "  Downloading roboflow-1.2.1-py3-none-any.whl.metadata (9.7 kB)\n",
      "Collecting ultralytics\n",
      "  Downloading ultralytics-8.3.167-py3-none-any.whl.metadata (37 kB)\n",
      "Requirement already satisfied: certifi in /usr/local/lib/python3.11/dist-packages (from roboflow) (2025.7.14)\n",
      "Collecting idna==3.7 (from roboflow)\n",
      "  Downloading idna-3.7-py3-none-any.whl.metadata (9.9 kB)\n",
      "Requirement already satisfied: cycler in /usr/local/lib/python3.11/dist-packages (from roboflow) (0.12.1)\n",
      "Requirement already satisfied: kiwisolver>=1.3.1 in /usr/local/lib/python3.11/dist-packages (from roboflow) (1.4.8)\n",
      "Requirement already satisfied: matplotlib in /usr/local/lib/python3.11/dist-packages (from roboflow) (3.10.0)\n",
      "Requirement already satisfied: numpy>=1.18.5 in /usr/local/lib/python3.11/dist-packages (from roboflow) (2.0.2)\n",
      "Collecting opencv-python-headless==4.10.0.84 (from roboflow)\n",
      "  Downloading opencv_python_headless-4.10.0.84-cp37-abi3-manylinux_2_17_x86_64.manylinux2014_x86_64.whl.metadata (20 kB)\n",
      "Requirement already satisfied: Pillow>=7.1.2 in /usr/local/lib/python3.11/dist-packages (from roboflow) (11.2.1)\n",
      "Collecting pillow-heif<2 (from roboflow)\n",
      "  Downloading pillow_heif-1.0.0-cp311-cp311-manylinux_2_17_x86_64.manylinux2014_x86_64.whl.metadata (9.6 kB)\n",
      "Collecting pillow-avif-plugin<2 (from roboflow)\n",
      "  Downloading pillow_avif_plugin-1.5.2-cp311-cp311-manylinux_2_28_x86_64.whl.metadata (2.1 kB)\n",
      "Requirement already satisfied: python-dateutil in /usr/local/lib/python3.11/dist-packages (from roboflow) (2.9.0.post0)\n",
      "Collecting python-dotenv (from roboflow)\n",
      "  Downloading python_dotenv-1.1.1-py3-none-any.whl.metadata (24 kB)\n",
      "Requirement already satisfied: requests in /usr/local/lib/python3.11/dist-packages (from roboflow) (2.32.3)\n",
      "Requirement already satisfied: six in /usr/local/lib/python3.11/dist-packages (from roboflow) (1.17.0)\n",
      "Requirement already satisfied: urllib3>=1.26.6 in /usr/local/lib/python3.11/dist-packages (from roboflow) (2.4.0)\n",
      "Requirement already satisfied: tqdm>=4.41.0 in /usr/local/lib/python3.11/dist-packages (from roboflow) (4.67.1)\n",
      "Requirement already satisfied: PyYAML>=5.3.1 in /usr/local/lib/python3.11/dist-packages (from roboflow) (6.0.2)\n",
      "Requirement already satisfied: requests-toolbelt in /usr/local/lib/python3.11/dist-packages (from roboflow) (1.0.0)\n",
      "Collecting filetype (from roboflow)\n",
      "  Downloading filetype-1.2.0-py2.py3-none-any.whl.metadata (6.5 kB)\n",
      "Requirement already satisfied: opencv-python>=4.6.0 in /usr/local/lib/python3.11/dist-packages (from ultralytics) (4.11.0.86)\n",
      "Requirement already satisfied: scipy>=1.4.1 in /usr/local/lib/python3.11/dist-packages (from ultralytics) (1.15.3)\n",
      "Requirement already satisfied: torch>=1.8.0 in /usr/local/lib/python3.11/dist-packages (from ultralytics) (2.6.0+cu124)\n",
      "Requirement already satisfied: torchvision>=0.9.0 in /usr/local/lib/python3.11/dist-packages (from ultralytics) (0.21.0+cu124)\n",
      "Requirement already satisfied: psutil in /usr/local/lib/python3.11/dist-packages (from ultralytics) (5.9.5)\n",
      "Requirement already satisfied: py-cpuinfo in /usr/local/lib/python3.11/dist-packages (from ultralytics) (9.0.0)\n",
      "Requirement already satisfied: pandas>=1.1.4 in /usr/local/lib/python3.11/dist-packages (from ultralytics) (2.2.2)\n",
      "Collecting ultralytics-thop>=2.0.0 (from ultralytics)\n",
      "  Downloading ultralytics_thop-2.0.14-py3-none-any.whl.metadata (9.4 kB)\n",
      "Requirement already satisfied: contourpy>=1.0.1 in /usr/local/lib/python3.11/dist-packages (from matplotlib->roboflow) (1.3.2)\n",
      "Requirement already satisfied: fonttools>=4.22.0 in /usr/local/lib/python3.11/dist-packages (from matplotlib->roboflow) (4.58.5)\n",
      "Requirement already satisfied: packaging>=20.0 in /usr/local/lib/python3.11/dist-packages (from matplotlib->roboflow) (24.2)\n",
      "Requirement already satisfied: pyparsing>=2.3.1 in /usr/local/lib/python3.11/dist-packages (from matplotlib->roboflow) (3.2.3)\n",
      "Requirement already satisfied: pytz>=2020.1 in /usr/local/lib/python3.11/dist-packages (from pandas>=1.1.4->ultralytics) (2025.2)\n",
      "Requirement already satisfied: tzdata>=2022.7 in /usr/local/lib/python3.11/dist-packages (from pandas>=1.1.4->ultralytics) (2025.2)\n",
      "Requirement already satisfied: charset-normalizer<4,>=2 in /usr/local/lib/python3.11/dist-packages (from requests->roboflow) (3.4.2)\n",
      "Requirement already satisfied: filelock in /usr/local/lib/python3.11/dist-packages (from torch>=1.8.0->ultralytics) (3.18.0)\n",
      "Requirement already satisfied: typing-extensions>=4.10.0 in /usr/local/lib/python3.11/dist-packages (from torch>=1.8.0->ultralytics) (4.14.1)\n",
      "Requirement already satisfied: networkx in /usr/local/lib/python3.11/dist-packages (from torch>=1.8.0->ultralytics) (3.5)\n",
      "Requirement already satisfied: jinja2 in /usr/local/lib/python3.11/dist-packages (from torch>=1.8.0->ultralytics) (3.1.6)\n",
      "Requirement already satisfied: fsspec in /usr/local/lib/python3.11/dist-packages (from torch>=1.8.0->ultralytics) (2025.3.2)\n",
      "Collecting nvidia-cuda-nvrtc-cu12==12.4.127 (from torch>=1.8.0->ultralytics)\n",
      "  Downloading nvidia_cuda_nvrtc_cu12-12.4.127-py3-none-manylinux2014_x86_64.whl.metadata (1.5 kB)\n",
      "Collecting nvidia-cuda-runtime-cu12==12.4.127 (from torch>=1.8.0->ultralytics)\n",
      "  Downloading nvidia_cuda_runtime_cu12-12.4.127-py3-none-manylinux2014_x86_64.whl.metadata (1.5 kB)\n",
      "Collecting nvidia-cuda-cupti-cu12==12.4.127 (from torch>=1.8.0->ultralytics)\n",
      "  Downloading nvidia_cuda_cupti_cu12-12.4.127-py3-none-manylinux2014_x86_64.whl.metadata (1.6 kB)\n",
      "Collecting nvidia-cudnn-cu12==9.1.0.70 (from torch>=1.8.0->ultralytics)\n",
      "  Downloading nvidia_cudnn_cu12-9.1.0.70-py3-none-manylinux2014_x86_64.whl.metadata (1.6 kB)\n",
      "Collecting nvidia-cublas-cu12==12.4.5.8 (from torch>=1.8.0->ultralytics)\n",
      "  Downloading nvidia_cublas_cu12-12.4.5.8-py3-none-manylinux2014_x86_64.whl.metadata (1.5 kB)\n",
      "Collecting nvidia-cufft-cu12==11.2.1.3 (from torch>=1.8.0->ultralytics)\n",
      "  Downloading nvidia_cufft_cu12-11.2.1.3-py3-none-manylinux2014_x86_64.whl.metadata (1.5 kB)\n",
      "Collecting nvidia-curand-cu12==10.3.5.147 (from torch>=1.8.0->ultralytics)\n",
      "  Downloading nvidia_curand_cu12-10.3.5.147-py3-none-manylinux2014_x86_64.whl.metadata (1.5 kB)\n",
      "Collecting nvidia-cusolver-cu12==11.6.1.9 (from torch>=1.8.0->ultralytics)\n",
      "  Downloading nvidia_cusolver_cu12-11.6.1.9-py3-none-manylinux2014_x86_64.whl.metadata (1.6 kB)\n",
      "Collecting nvidia-cusparse-cu12==12.3.1.170 (from torch>=1.8.0->ultralytics)\n",
      "  Downloading nvidia_cusparse_cu12-12.3.1.170-py3-none-manylinux2014_x86_64.whl.metadata (1.6 kB)\n",
      "Requirement already satisfied: nvidia-cusparselt-cu12==0.6.2 in /usr/local/lib/python3.11/dist-packages (from torch>=1.8.0->ultralytics) (0.6.2)\n",
      "Requirement already satisfied: nvidia-nccl-cu12==2.21.5 in /usr/local/lib/python3.11/dist-packages (from torch>=1.8.0->ultralytics) (2.21.5)\n",
      "Requirement already satisfied: nvidia-nvtx-cu12==12.4.127 in /usr/local/lib/python3.11/dist-packages (from torch>=1.8.0->ultralytics) (12.4.127)\n",
      "Collecting nvidia-nvjitlink-cu12==12.4.127 (from torch>=1.8.0->ultralytics)\n",
      "  Downloading nvidia_nvjitlink_cu12-12.4.127-py3-none-manylinux2014_x86_64.whl.metadata (1.5 kB)\n",
      "Requirement already satisfied: triton==3.2.0 in /usr/local/lib/python3.11/dist-packages (from torch>=1.8.0->ultralytics) (3.2.0)\n",
      "Requirement already satisfied: sympy==1.13.1 in /usr/local/lib/python3.11/dist-packages (from torch>=1.8.0->ultralytics) (1.13.1)\n",
      "Requirement already satisfied: mpmath<1.4,>=1.1.0 in /usr/local/lib/python3.11/dist-packages (from sympy==1.13.1->torch>=1.8.0->ultralytics) (1.3.0)\n",
      "Requirement already satisfied: MarkupSafe>=2.0 in /usr/local/lib/python3.11/dist-packages (from jinja2->torch>=1.8.0->ultralytics) (3.0.2)\n",
      "Downloading roboflow-1.2.1-py3-none-any.whl (86 kB)\n",
      "\u001b[2K   \u001b[90m━━━━━━━━━━━━━━━━━━━━━━━━━━━━━━━━━━━━━━━━\u001b[0m \u001b[32m86.9/86.9 kB\u001b[0m \u001b[31m9.3 MB/s\u001b[0m eta \u001b[36m0:00:00\u001b[0m\n",
      "\u001b[?25hDownloading idna-3.7-py3-none-any.whl (66 kB)\n",
      "\u001b[2K   \u001b[90m━━━━━━━━━━━━━━━━━━━━━━━━━━━━━━━━━━━━━━━━\u001b[0m \u001b[32m66.8/66.8 kB\u001b[0m \u001b[31m6.6 MB/s\u001b[0m eta \u001b[36m0:00:00\u001b[0m\n",
      "\u001b[?25hDownloading opencv_python_headless-4.10.0.84-cp37-abi3-manylinux_2_17_x86_64.manylinux2014_x86_64.whl (49.9 MB)\n",
      "\u001b[2K   \u001b[90m━━━━━━━━━━━━━━━━━━━━━━━━━━━━━━━━━━━━━━━━\u001b[0m \u001b[32m49.9/49.9 MB\u001b[0m \u001b[31m20.1 MB/s\u001b[0m eta \u001b[36m0:00:00\u001b[0m\n",
      "\u001b[?25hDownloading ultralytics-8.3.167-py3-none-any.whl (1.0 MB)\n",
      "\u001b[2K   \u001b[90m━━━━━━━━━━━━━━━━━━━━━━━━━━━━━━━━━━━━━━━━\u001b[0m \u001b[32m1.0/1.0 MB\u001b[0m \u001b[31m73.1 MB/s\u001b[0m eta \u001b[36m0:00:00\u001b[0m\n",
      "\u001b[?25hDownloading pillow_avif_plugin-1.5.2-cp311-cp311-manylinux_2_28_x86_64.whl (4.2 MB)\n",
      "\u001b[2K   \u001b[90m━━━━━━━━━━━━━━━━━━━━━━━━━━━━━━━━━━━━━━━━\u001b[0m \u001b[32m4.2/4.2 MB\u001b[0m \u001b[31m118.0 MB/s\u001b[0m eta \u001b[36m0:00:00\u001b[0m\n",
      "\u001b[?25hDownloading pillow_heif-1.0.0-cp311-cp311-manylinux_2_17_x86_64.manylinux2014_x86_64.whl (4.9 MB)\n",
      "\u001b[2K   \u001b[90m━━━━━━━━━━━━━━━━━━━━━━━━━━━━━━━━━━━━━━━━\u001b[0m \u001b[32m4.9/4.9 MB\u001b[0m \u001b[31m124.8 MB/s\u001b[0m eta \u001b[36m0:00:00\u001b[0m\n",
      "\u001b[?25hDownloading nvidia_cublas_cu12-12.4.5.8-py3-none-manylinux2014_x86_64.whl (363.4 MB)\n",
      "\u001b[2K   \u001b[90m━━━━━━━━━━━━━━━━━━━━━━━━━━━━━━━━━━━━━━━━\u001b[0m \u001b[32m363.4/363.4 MB\u001b[0m \u001b[31m3.8 MB/s\u001b[0m eta \u001b[36m0:00:00\u001b[0m\n",
      "\u001b[?25hDownloading nvidia_cuda_cupti_cu12-12.4.127-py3-none-manylinux2014_x86_64.whl (13.8 MB)\n",
      "\u001b[2K   \u001b[90m━━━━━━━━━━━━━━━━━━━━━━━━━━━━━━━━━━━━━━━━\u001b[0m \u001b[32m13.8/13.8 MB\u001b[0m \u001b[31m96.8 MB/s\u001b[0m eta \u001b[36m0:00:00\u001b[0m\n",
      "\u001b[?25hDownloading nvidia_cuda_nvrtc_cu12-12.4.127-py3-none-manylinux2014_x86_64.whl (24.6 MB)\n",
      "\u001b[2K   \u001b[90m━━━━━━━━━━━━━━━━━━━━━━━━━━━━━━━━━━━━━━━━\u001b[0m \u001b[32m24.6/24.6 MB\u001b[0m \u001b[31m66.4 MB/s\u001b[0m eta \u001b[36m0:00:00\u001b[0m\n",
      "\u001b[?25hDownloading nvidia_cuda_runtime_cu12-12.4.127-py3-none-manylinux2014_x86_64.whl (883 kB)\n",
      "\u001b[2K   \u001b[90m━━━━━━━━━━━━━━━━━━━━━━━━━━━━━━━━━━━━━━━━\u001b[0m \u001b[32m883.7/883.7 kB\u001b[0m \u001b[31m59.3 MB/s\u001b[0m eta \u001b[36m0:00:00\u001b[0m\n",
      "\u001b[?25hDownloading nvidia_cudnn_cu12-9.1.0.70-py3-none-manylinux2014_x86_64.whl (664.8 MB)\n",
      "\u001b[2K   \u001b[90m━━━━━━━━━━━━━━━━━━━━━━━━━━━━━━━━━━━━━━━━\u001b[0m \u001b[32m664.8/664.8 MB\u001b[0m \u001b[31m2.8 MB/s\u001b[0m eta \u001b[36m0:00:00\u001b[0m\n",
      "\u001b[?25hDownloading nvidia_cufft_cu12-11.2.1.3-py3-none-manylinux2014_x86_64.whl (211.5 MB)\n",
      "\u001b[2K   \u001b[90m━━━━━━━━━━━━━━━━━━━━━━━━━━━━━━━━━━━━━━━━\u001b[0m \u001b[32m211.5/211.5 MB\u001b[0m \u001b[31m5.4 MB/s\u001b[0m eta \u001b[36m0:00:00\u001b[0m\n",
      "\u001b[?25hDownloading nvidia_curand_cu12-10.3.5.147-py3-none-manylinux2014_x86_64.whl (56.3 MB)\n",
      "\u001b[2K   \u001b[90m━━━━━━━━━━━━━━━━━━━━━━━━━━━━━━━━━━━━━━━━\u001b[0m \u001b[32m56.3/56.3 MB\u001b[0m \u001b[31m11.9 MB/s\u001b[0m eta \u001b[36m0:00:00\u001b[0m\n",
      "\u001b[?25hDownloading nvidia_cusolver_cu12-11.6.1.9-py3-none-manylinux2014_x86_64.whl (127.9 MB)\n",
      "\u001b[2K   \u001b[90m━━━━━━━━━━━━━━━━━━━━━━━━━━━━━━━━━━━━━━━━\u001b[0m \u001b[32m127.9/127.9 MB\u001b[0m \u001b[31m7.4 MB/s\u001b[0m eta \u001b[36m0:00:00\u001b[0m\n",
      "\u001b[?25hDownloading nvidia_cusparse_cu12-12.3.1.170-py3-none-manylinux2014_x86_64.whl (207.5 MB)\n",
      "\u001b[2K   \u001b[90m━━━━━━━━━━━━━━━━━━━━━━━━━━━━━━━━━━━━━━━━\u001b[0m \u001b[32m207.5/207.5 MB\u001b[0m \u001b[31m5.4 MB/s\u001b[0m eta \u001b[36m0:00:00\u001b[0m\n",
      "\u001b[?25hDownloading nvidia_nvjitlink_cu12-12.4.127-py3-none-manylinux2014_x86_64.whl (21.1 MB)\n",
      "\u001b[2K   \u001b[90m━━━━━━━━━━━━━━━━━━━━━━━━━━━━━━━━━━━━━━━━\u001b[0m \u001b[32m21.1/21.1 MB\u001b[0m \u001b[31m94.6 MB/s\u001b[0m eta \u001b[36m0:00:00\u001b[0m\n",
      "\u001b[?25hDownloading ultralytics_thop-2.0.14-py3-none-any.whl (26 kB)\n",
      "Downloading filetype-1.2.0-py2.py3-none-any.whl (19 kB)\n",
      "Downloading python_dotenv-1.1.1-py3-none-any.whl (20 kB)\n",
      "Installing collected packages: pillow-avif-plugin, filetype, python-dotenv, pillow-heif, opencv-python-headless, nvidia-nvjitlink-cu12, nvidia-curand-cu12, nvidia-cufft-cu12, nvidia-cuda-runtime-cu12, nvidia-cuda-nvrtc-cu12, nvidia-cuda-cupti-cu12, nvidia-cublas-cu12, idna, nvidia-cusparse-cu12, nvidia-cudnn-cu12, nvidia-cusolver-cu12, roboflow, ultralytics-thop, ultralytics\n",
      "  Attempting uninstall: opencv-python-headless\n",
      "    Found existing installation: opencv-python-headless 4.12.0.88\n",
      "    Uninstalling opencv-python-headless-4.12.0.88:\n",
      "      Successfully uninstalled opencv-python-headless-4.12.0.88\n",
      "  Attempting uninstall: nvidia-nvjitlink-cu12\n",
      "    Found existing installation: nvidia-nvjitlink-cu12 12.5.82\n",
      "    Uninstalling nvidia-nvjitlink-cu12-12.5.82:\n",
      "      Successfully uninstalled nvidia-nvjitlink-cu12-12.5.82\n",
      "  Attempting uninstall: nvidia-curand-cu12\n",
      "    Found existing installation: nvidia-curand-cu12 10.3.6.82\n",
      "    Uninstalling nvidia-curand-cu12-10.3.6.82:\n",
      "      Successfully uninstalled nvidia-curand-cu12-10.3.6.82\n",
      "  Attempting uninstall: nvidia-cufft-cu12\n",
      "    Found existing installation: nvidia-cufft-cu12 11.2.3.61\n",
      "    Uninstalling nvidia-cufft-cu12-11.2.3.61:\n",
      "      Successfully uninstalled nvidia-cufft-cu12-11.2.3.61\n",
      "  Attempting uninstall: nvidia-cuda-runtime-cu12\n",
      "    Found existing installation: nvidia-cuda-runtime-cu12 12.5.82\n",
      "    Uninstalling nvidia-cuda-runtime-cu12-12.5.82:\n",
      "      Successfully uninstalled nvidia-cuda-runtime-cu12-12.5.82\n",
      "  Attempting uninstall: nvidia-cuda-nvrtc-cu12\n",
      "    Found existing installation: nvidia-cuda-nvrtc-cu12 12.5.82\n",
      "    Uninstalling nvidia-cuda-nvrtc-cu12-12.5.82:\n",
      "      Successfully uninstalled nvidia-cuda-nvrtc-cu12-12.5.82\n",
      "  Attempting uninstall: nvidia-cuda-cupti-cu12\n",
      "    Found existing installation: nvidia-cuda-cupti-cu12 12.5.82\n",
      "    Uninstalling nvidia-cuda-cupti-cu12-12.5.82:\n",
      "      Successfully uninstalled nvidia-cuda-cupti-cu12-12.5.82\n",
      "  Attempting uninstall: nvidia-cublas-cu12\n",
      "    Found existing installation: nvidia-cublas-cu12 12.5.3.2\n",
      "    Uninstalling nvidia-cublas-cu12-12.5.3.2:\n",
      "      Successfully uninstalled nvidia-cublas-cu12-12.5.3.2\n",
      "  Attempting uninstall: idna\n",
      "    Found existing installation: idna 3.10\n",
      "    Uninstalling idna-3.10:\n",
      "      Successfully uninstalled idna-3.10\n",
      "  Attempting uninstall: nvidia-cusparse-cu12\n",
      "    Found existing installation: nvidia-cusparse-cu12 12.5.1.3\n",
      "    Uninstalling nvidia-cusparse-cu12-12.5.1.3:\n",
      "      Successfully uninstalled nvidia-cusparse-cu12-12.5.1.3\n",
      "  Attempting uninstall: nvidia-cudnn-cu12\n",
      "    Found existing installation: nvidia-cudnn-cu12 9.3.0.75\n",
      "    Uninstalling nvidia-cudnn-cu12-9.3.0.75:\n",
      "      Successfully uninstalled nvidia-cudnn-cu12-9.3.0.75\n",
      "  Attempting uninstall: nvidia-cusolver-cu12\n",
      "    Found existing installation: nvidia-cusolver-cu12 11.6.3.83\n",
      "    Uninstalling nvidia-cusolver-cu12-11.6.3.83:\n",
      "      Successfully uninstalled nvidia-cusolver-cu12-11.6.3.83\n",
      "Successfully installed filetype-1.2.0 idna-3.7 nvidia-cublas-cu12-12.4.5.8 nvidia-cuda-cupti-cu12-12.4.127 nvidia-cuda-nvrtc-cu12-12.4.127 nvidia-cuda-runtime-cu12-12.4.127 nvidia-cudnn-cu12-9.1.0.70 nvidia-cufft-cu12-11.2.1.3 nvidia-curand-cu12-10.3.5.147 nvidia-cusolver-cu12-11.6.1.9 nvidia-cusparse-cu12-12.3.1.170 nvidia-nvjitlink-cu12-12.4.127 opencv-python-headless-4.10.0.84 pillow-avif-plugin-1.5.2 pillow-heif-1.0.0 python-dotenv-1.1.1 roboflow-1.2.1 ultralytics-8.3.167 ultralytics-thop-2.0.14\n"
     ]
    }
   ],
   "source": [
    "!pip install ultralytics # Install required packages"
   ]
  },
  {
   "cell_type": "code",
   "execution_count": null,
   "metadata": {
    "colab": {
     "base_uri": "https://localhost:8080/"
    },
    "executionInfo": {
     "elapsed": 6835,
     "status": "ok",
     "timestamp": 1752688618727,
     "user": {
      "displayName": "Muhammad Fakhri Fadhlurrahman",
      "userId": "08868115783476209028"
     },
     "user_tz": -420
    },
    "id": "-D1Gd8suPMUx",
    "outputId": "4adf09cd-94c4-430c-b260-7f0c1da39909"
   },
   "outputs": [
    {
     "name": "stdout",
     "output_type": "stream",
     "text": [
      "Creating new Ultralytics Settings v0.0.6 file ✅ \n",
      "View Ultralytics Settings with 'yolo settings' or at '/root/.config/Ultralytics/settings.json'\n",
      "Update Settings with 'yolo settings key=value', i.e. 'yolo settings runs_dir=path/to/dir'. For help see https://docs.ultralytics.com/quickstart/#ultralytics-settings.\n"
     ]
    }
   ],
   "source": [
    "import os\n",
    "import shutil\n",
    "from ultralytics import YOLO\n",
    "import yaml"
   ]
  },
  {
   "cell_type": "code",
   "execution_count": 4,
   "metadata": {
    "colab": {
     "base_uri": "https://localhost:8080/"
    },
    "executionInfo": {
     "elapsed": 20928,
     "status": "ok",
     "timestamp": 1752688639657,
     "user": {
      "displayName": "Muhammad Fakhri Fadhlurrahman",
      "userId": "08868115783476209028"
     },
     "user_tz": -420
    },
    "id": "m1H-wy1eTQMU",
    "outputId": "b4462d1b-73fa-4f07-8d23-92cb5d6f44d9"
   },
   "outputs": [
    {
     "name": "stdout",
     "output_type": "stream",
     "text": [
      "Mounted at /content/drive\n"
     ]
    }
   ],
   "source": [
    "from google.colab import drive\n",
    "drive.mount('/content/drive')  # Mount Google Drive"
   ]
  },
  {
   "cell_type": "markdown",
   "metadata": {
    "id": "jBxyWd2RPQDR"
   },
   "source": [
    "## Step 2: Upload and unzip dataset from device"
   ]
  },
  {
   "cell_type": "code",
   "execution_count": 5,
   "metadata": {
    "executionInfo": {
     "elapsed": 1213,
     "status": "ok",
     "timestamp": 1752688640871,
     "user": {
      "displayName": "Muhammad Fakhri Fadhlurrahman",
      "userId": "08868115783476209028"
     },
     "user_tz": -420
    },
    "id": "PJ7fpZYQ-KxX"
   },
   "outputs": [],
   "source": [
    "# Check if ZIP file exists and unzip\n",
    "zip_path = \"/content/test-4.zip\"\n",
    "if not os.path.exists(zip_path):\n",
    "    raise FileNotFoundError(f\"Dataset ZIP file not found at {zip_path}. Please upload it to Colab.\")\n",
    "!unzip -q {zip_path} -d /content"
   ]
  },
  {
   "cell_type": "markdown",
   "metadata": {
    "id": "oE1p_HXnp1Bo"
   },
   "source": [
    "## Step 3: Verify and set dataset path"
   ]
  },
  {
   "cell_type": "code",
   "execution_count": 6,
   "metadata": {
    "executionInfo": {
     "elapsed": 9,
     "status": "ok",
     "timestamp": 1752688640882,
     "user": {
      "displayName": "Muhammad Fakhri Fadhlurrahman",
      "userId": "08868115783476209028"
     },
     "user_tz": -420
    },
    "id": "4nItgfBVqUiv"
   },
   "outputs": [],
   "source": [
    "# Device uploads to /content/test-4\n",
    "dataset_path = \"/content/test-4\"\n",
    "test_img_dir = os.path.join(dataset_path, \"train\", \"images\")\n",
    "test_label_dir = os.path.join(dataset_path, \"train\", \"labels\")"
   ]
  },
  {
   "cell_type": "code",
   "execution_count": 7,
   "metadata": {
    "executionInfo": {
     "elapsed": 14,
     "status": "ok",
     "timestamp": 1752688640906,
     "user": {
      "displayName": "Muhammad Fakhri Fadhlurrahman",
      "userId": "08868115783476209028"
     },
     "user_tz": -420
    },
    "id": "MMkS1yeoFgh_"
   },
   "outputs": [],
   "source": [
    "# Check if test directories exist\n",
    "if not os.path.exists(test_img_dir) or not os.path.exists(test_label_dir):\n",
    "    raise FileNotFoundError(f\"Test directories not found at {test_img_dir} or {test_label_dir}\")"
   ]
  },
  {
   "cell_type": "markdown",
   "metadata": {
    "id": "9B6e3FuaFz_e"
   },
   "source": [
    "## Step 4: Update data.yaml with absolute paths"
   ]
  },
  {
   "cell_type": "code",
   "execution_count": 8,
   "metadata": {
    "executionInfo": {
     "elapsed": 21,
     "status": "ok",
     "timestamp": 1752688640937,
     "user": {
      "displayName": "Muhammad Fakhri Fadhlurrahman",
      "userId": "08868115783476209028"
     },
     "user_tz": -420
    },
    "id": "YVfkzzy6F0sf"
   },
   "outputs": [],
   "source": [
    "data_yaml_path = os.path.join(dataset_path, \"data.yaml\")\n",
    "with open(data_yaml_path, \"r\") as f:\n",
    "    data_yaml = yaml.safe_load(f)\n",
    "\n",
    "# Use absolute paths for the test set (use train folder as the test set)\n",
    "data_yaml[\"train\"] = os.path.abspath(os.path.join(dataset_path, \"train/images\"))\n",
    "data_yaml[\"val\"] = \"\"  # No validation set\n",
    "data_yaml[\"test\"] = os.path.abspath(os.path.join(dataset_path, \"train/images\"))  # Use all images for testing\n",
    "data_yaml[\"nc\"] = 7\n",
    "data_yaml[\"names\"] = ['Angry', 'Disgust', 'Fear', 'Happy', 'Neutral', 'Sad', 'Surprise']\n",
    "\n",
    "with open(data_yaml_path, \"w\") as f:\n",
    "    yaml.safe_dump(data_yaml, f)"
   ]
  },
  {
   "cell_type": "code",
   "execution_count": 9,
   "metadata": {
    "executionInfo": {
     "elapsed": 19,
     "status": "ok",
     "timestamp": 1752688640959,
     "user": {
      "displayName": "Muhammad Fakhri Fadhlurrahman",
      "userId": "08868115783476209028"
     },
     "user_tz": -420
    },
    "id": "d1WjST3HF4cP"
   },
   "outputs": [],
   "source": [
    "# Verify paths exist\n",
    "if not os.path.exists(data_yaml[\"test\"]):\n",
    "    raise FileNotFoundError(f\"Test image directory not found: {data_yaml['test']}\")"
   ]
  },
  {
   "cell_type": "markdown",
   "metadata": {
    "id": "AS_WehHAqzSw"
   },
   "source": [
    "## Step 5: Load fine-tuned YOLOv11 model"
   ]
  },
  {
   "cell_type": "code",
   "execution_count": 10,
   "metadata": {
    "executionInfo": {
     "elapsed": 6924,
     "status": "ok",
     "timestamp": 1752688647876,
     "user": {
      "displayName": "Muhammad Fakhri Fadhlurrahman",
      "userId": "08868115783476209028"
     },
     "user_tz": -420
    },
    "id": "sv0-sfI7qzif"
   },
   "outputs": [],
   "source": [
    "model = YOLO(\"/content/drive/MyDrive/[Sem. 7 & 8] Seminar & Skripsi/Program/Model/YOLOv11s_Emotion_Detection.pt\")"
   ]
  },
  {
   "cell_type": "markdown",
   "metadata": {
    "id": "eLgNPiEkrCgP"
   },
   "source": [
    "## Step 6: Batch evaluation and inference"
   ]
  },
  {
   "cell_type": "code",
   "execution_count": 12,
   "metadata": {
    "colab": {
     "base_uri": "https://localhost:8080/"
    },
    "executionInfo": {
     "elapsed": 20271,
     "status": "ok",
     "timestamp": 1752688697081,
     "user": {
      "displayName": "Muhammad Fakhri Fadhlurrahman",
      "userId": "08868115783476209028"
     },
     "user_tz": -420
    },
    "id": "pUDDheNzrDxY",
    "outputId": "8fedef3b-5be5-437f-e328-3a67a9d7fbd9"
   },
   "outputs": [
    {
     "name": "stdout",
     "output_type": "stream",
     "text": [
      "Ultralytics 8.3.167 🚀 Python-3.11.13 torch-2.6.0+cu124 CUDA:0 (Tesla T4, 15095MiB)\n",
      "\u001b[34m\u001b[1mval: \u001b[0mFast image access ✅ (ping: 0.0±0.0 ms, read: 2531.5±361.8 MB/s, size: 229.6 KB)\n"
     ]
    },
    {
     "name": "stderr",
     "output_type": "stream",
     "text": [
      "\u001b[34m\u001b[1mval: \u001b[0mScanning /content/test-4/train/labels.cache... 536 images, 0 backgrounds, 0 corrupt: 100%|██████████| 536/536 [00:00<?, ?it/s]\n",
      "                 Class     Images  Instances      Box(P          R      mAP50  mAP50-95): 100%|██████████| 17/17 [00:17<00:00,  1.00s/it]\n"
     ]
    },
    {
     "name": "stdout",
     "output_type": "stream",
     "text": [
      "                   all        536      19056      0.206      0.215       0.16      0.111\n",
      "                 Angry        523       1859      0.201      0.114      0.121     0.0819\n",
      "               Disgust        354        701      0.182      0.173      0.117     0.0892\n",
      "                  Fear        188        292    0.00931     0.0274    0.00498    0.00146\n",
      "                 Happy        536       2342      0.228      0.418      0.251      0.177\n",
      "               Neutral        536      10305      0.546      0.607      0.462      0.305\n",
      "                   Sad        514       2310      0.158     0.0281     0.0815      0.064\n",
      "              Surprise        494       1247      0.117      0.134     0.0853     0.0565\n",
      "Speed: 1.1ms preprocess, 5.4ms inference, 0.0ms loss, 3.8ms postprocess per image\n",
      "Results saved to \u001b[1mruns/detect/val2\u001b[0m\n",
      "Test Metrics:\n",
      "mAP@50: 0.1603\n",
      "mAP@50:95: 0.1106\n"
     ]
    }
   ],
   "source": [
    "# Perform evaluation (mAP) and inference on the test set\n",
    "val_results = model.val(\n",
    "    data=data_yaml_path,\n",
    "    batch=32,  # Batch size for T4 GPU\n",
    "    conf=0.25,  # Confidence threshold for inference\n",
    "    save=True,  # Save inference results\n",
    "    split=\"test\"  # Use test set (all 536 images)\n",
    ")\n",
    "\n",
    "# Extract and print mAP metrics\n",
    "print(\"Test Metrics:\")\n",
    "print(f\"mAP@50: {val_results.box.map50:.4f}\")\n",
    "print(f\"mAP@50:95: {val_results.box.map:.4f}\")"
   ]
  },
  {
   "cell_type": "code",
   "execution_count": 13,
   "metadata": {
    "colab": {
     "base_uri": "https://localhost:8080/"
    },
    "executionInfo": {
     "elapsed": 27,
     "status": "ok",
     "timestamp": 1752688701925,
     "user": {
      "displayName": "Muhammad Fakhri Fadhlurrahman",
      "userId": "08868115783476209028"
     },
     "user_tz": -420
    },
    "id": "pqeH6U9iep7D",
    "outputId": "2bd2dbb4-7530-4f1e-ef37-614a1dffd08d"
   },
   "outputs": [
    {
     "name": "stdout",
     "output_type": "stream",
     "text": [
      "\n",
      "Speed Metrics (per image):\n",
      "Preprocess: 1.1ms\n",
      "Inference: 5.4ms\n",
      "Postprocess: 3.8ms\n",
      "Total (Latency): 10.3ms\n",
      "FPS: 96.83\n",
      "\n",
      "Per Face Metrics:\n",
      "Average faces per image: 35.55\n",
      "Inference time per face: 0.153ms\n",
      "Latency per face: 0.290ms\n",
      "FPS per face: 6539.11\n"
     ]
    }
   ],
   "source": [
    "# Extract speed metrics\n",
    "preprocess_time = val_results.speed['preprocess']  # ms per image\n",
    "inference_time = val_results.speed['inference']    # ms per image\n",
    "postprocess_time = val_results.speed['postprocess']  # ms per image\n",
    "total_time_per_image = preprocess_time + inference_time + postprocess_time  # ms\n",
    "\n",
    "# Calculate FPS (per image)\n",
    "fps = 1000 / total_time_per_image if total_time_per_image > 0 else 0\n",
    "\n",
    "# Calculate inference time per face, latency per face, and FPS per face\n",
    "num_images = 536  # Total images in dataset\n",
    "num_instances = sum(val_results.nt_per_class)  # Total instances (e.g., 3859 previously)\n",
    "avg_faces_per_image = num_instances / num_images if num_images > 0 else 0\n",
    "inference_time_per_face = inference_time / avg_faces_per_image if avg_faces_per_image > 0 else 0\n",
    "latency_per_face = total_time_per_image / avg_faces_per_image if avg_faces_per_image > 0 else 0\n",
    "fps_per_face = 1000 / inference_time_per_face if inference_time_per_face > 0 else 0\n",
    "\n",
    "# Print speed metrics, FPS, and per-face metrics\n",
    "print(\"\\nSpeed Metrics (per image):\")\n",
    "print(f\"Preprocess: {preprocess_time:.1f}ms\")\n",
    "print(f\"Inference: {inference_time:.1f}ms\")\n",
    "print(f\"Postprocess: {postprocess_time:.1f}ms\")\n",
    "print(f\"Total (Latency): {total_time_per_image:.1f}ms\")\n",
    "print(f\"FPS: {fps:.2f}\")\n",
    "print(f\"\\nPer Face Metrics:\")\n",
    "print(f\"Average faces per image: {avg_faces_per_image:.2f}\")\n",
    "print(f\"Inference time per face: {inference_time_per_face:.3f}ms\")\n",
    "print(f\"Latency per face: {latency_per_face:.3f}ms\")\n",
    "print(f\"FPS per face: {fps_per_face:.2f}\")"
   ]
  },
  {
   "cell_type": "code",
   "execution_count": 14,
   "metadata": {
    "executionInfo": {
     "elapsed": 43,
     "status": "ok",
     "timestamp": 1752688711795,
     "user": {
      "displayName": "Muhammad Fakhri Fadhlurrahman",
      "userId": "08868115783476209028"
     },
     "user_tz": -420
    },
    "id": "ft_XFoMaGjn2"
   },
   "outputs": [],
   "source": [
    "drive_save_path = \"/content/drive/MyDrive/[Sem. 7 & 8] Seminar & Skripsi/Program/Model/YOLOv11s_RT-FER_Test_GPU\"\n",
    "os.makedirs(drive_save_path, exist_ok=True)  # Ensure directory exists"
   ]
  },
  {
   "cell_type": "code",
   "execution_count": 15,
   "metadata": {
    "colab": {
     "base_uri": "https://localhost:8080/"
    },
    "executionInfo": {
     "elapsed": 17,
     "status": "ok",
     "timestamp": 1752688713734,
     "user": {
      "displayName": "Muhammad Fakhri Fadhlurrahman",
      "userId": "08868115783476209028"
     },
     "user_tz": -420
    },
    "id": "fnIaZS_FGFUX",
    "outputId": "17d0e297-f0e8-42b2-e235-a33732b5ef2b"
   },
   "outputs": [
    {
     "name": "stdout",
     "output_type": "stream",
     "text": [
      "Metrics saved to /content/drive/MyDrive/[Sem. 7 & 8] Seminar & Skripsi/Program/Model/YOLOv11s_RT-FER_Test_GPU/test_metrics.txt\n"
     ]
    }
   ],
   "source": [
    "# Save metrics to Google Drive\n",
    "metrics_file = os.path.join(drive_save_path, \"test_metrics.txt\")\n",
    "os.makedirs(os.path.dirname(metrics_file), exist_ok=True)  # Ensure parent directory exists\n",
    "with open(metrics_file, \"w\") as f:\n",
    "    f.write(f\"Test Metrics:\\n\")\n",
    "    f.write(f\"mAP@50: {val_results.box.map50:.4f}\\n\")\n",
    "    f.write(f\"mAP@50:95: {val_results.box.map:.4f}\\n\")\n",
    "    f.write(f\"\\nSpeed Metrics (per image):\\n\")\n",
    "    f.write(f\"Preprocess: {preprocess_time:.1f}ms\\n\")\n",
    "    f.write(f\"Inference: {inference_time:.1f}ms\\n\")\n",
    "    f.write(f\"Postprocess: {postprocess_time:.1f}ms\\n\")\n",
    "    f.write(f\"Total (Latency): {total_time_per_image:.1f}ms\\n\")\n",
    "    f.write(f\"FPS: {fps:.2f}\\n\")\n",
    "    f.write(f\"\\nPer Face Metrics:\\n\")\n",
    "    f.write(f\"Average faces per image: {avg_faces_per_image:.2f}\\n\")\n",
    "    f.write(f\"Inference time per face: {inference_time_per_face:.3f}ms\\n\")\n",
    "    f.write(f\"Latency per face: {latency_per_face:.3f}ms\\n\")\n",
    "    f.write(f\"FPS per face: {fps_per_face:.2f}\\n\")\n",
    "print(f\"Metrics saved to {metrics_file}\")"
   ]
  },
  {
   "cell_type": "markdown",
   "metadata": {
    "id": "Tihd-SSBrydQ"
   },
   "source": [
    "## Step 7: Save inference results to Google Drive"
   ]
  },
  {
   "cell_type": "code",
   "execution_count": 17,
   "metadata": {
    "colab": {
     "base_uri": "https://localhost:8080/"
    },
    "executionInfo": {
     "elapsed": 116,
     "status": "ok",
     "timestamp": 1752688831407,
     "user": {
      "displayName": "Muhammad Fakhri Fadhlurrahman",
      "userId": "08868115783476209028"
     },
     "user_tz": -420
    },
    "id": "TDr3D5SHryrv",
    "outputId": "543880d9-019d-4808-e07b-63642c9ff1ac"
   },
   "outputs": [
    {
     "name": "stdout",
     "output_type": "stream",
     "text": [
      "Inference results saved to /content/drive/MyDrive/[Sem. 7 & 8] Seminar & Skripsi/Program/Model/YOLOv11s_RT-FER_Test_GPU/inference_results\n"
     ]
    }
   ],
   "source": [
    "inference_results_dir = \"runs/detect/val\"\n",
    "drive_inference_save_path = os.path.join(drive_save_path, \"inference_results\")\n",
    "os.makedirs(drive_inference_save_path, exist_ok=True)  # Ensure inference directory exists\n",
    "shutil.copytree(inference_results_dir, drive_inference_save_path, dirs_exist_ok=True)\n",
    "print(f\"Inference results saved to {drive_inference_save_path}\")"
   ]
  }
 ],
 "metadata": {
  "accelerator": "GPU",
  "colab": {
   "gpuType": "T4",
   "provenance": []
  },
  "kernelspec": {
   "display_name": "Python 3",
   "name": "python3"
  },
  "language_info": {
   "name": "python"
  }
 },
 "nbformat": 4,
 "nbformat_minor": 0
}
